{
 "cells": [
  {
   "cell_type": "code",
   "execution_count": 1,
   "id": "initial_id",
   "metadata": {
    "collapsed": true,
    "ExecuteTime": {
     "end_time": "2023-11-14T06:54:05.807779100Z",
     "start_time": "2023-11-14T06:54:05.192934Z"
    }
   },
   "outputs": [],
   "source": [
    "import pandas as pd"
   ]
  },
  {
   "cell_type": "code",
   "execution_count": 2,
   "outputs": [],
   "source": [
    "from pathlib import Path\n",
    "\n",
    "def read_data_files(folder: Path) -> pd.DataFrame:\n",
    "    tmp_pandas_list = []\n",
    "\n",
    "    for file in folder.glob('*.csv'):\n",
    "        tmp_pandas_list.append(pd.read_csv(file, delimiter=','))\n",
    "\n",
    "    return pd.concat(tmp_pandas_list, axis=0, ignore_index=True)"
   ],
   "metadata": {
    "collapsed": false,
    "ExecuteTime": {
     "end_time": "2023-11-14T06:54:05.826432700Z",
     "start_time": "2023-11-14T06:54:05.823420200Z"
    }
   },
   "id": "5c2baace9b5f9285"
  },
  {
   "cell_type": "code",
   "execution_count": 8,
   "outputs": [],
   "source": [
    "data = read_data_files(Path('.'))"
   ],
   "metadata": {
    "collapsed": false,
    "ExecuteTime": {
     "end_time": "2023-11-14T06:58:35.374116300Z",
     "start_time": "2023-11-14T06:58:35.175775Z"
    }
   },
   "id": "cea05264ccc7276"
  },
  {
   "cell_type": "code",
   "execution_count": 12,
   "outputs": [
    {
     "name": "stdout",
     "output_type": "stream",
     "text": [
      "Total data collected: (9945, 7)\n",
      "Different test approches: 3\n"
     ]
    }
   ],
   "source": [
    "print(f'Total data collected: {data.shape}')\n",
    "print(f'Different test approaches: {len(data[\"test group\"].drop_duplicates())}')"
   ],
   "metadata": {
    "collapsed": false,
    "ExecuteTime": {
     "end_time": "2023-11-14T07:02:31.169935800Z",
     "start_time": "2023-11-14T07:02:31.064938200Z"
    }
   },
   "id": "8540137ca0cb9a25"
  },
  {
   "cell_type": "code",
   "execution_count": 10,
   "outputs": [
    {
     "data": {
      "text/plain": "3"
     },
     "execution_count": 10,
     "metadata": {},
     "output_type": "execute_result"
    }
   ],
   "source": [],
   "metadata": {
    "collapsed": false,
    "ExecuteTime": {
     "end_time": "2023-11-14T07:01:50.176814300Z",
     "start_time": "2023-11-14T07:01:50.155493300Z"
    }
   },
   "id": "606495a1d55c67cb"
  },
  {
   "cell_type": "code",
   "execution_count": null,
   "outputs": [],
   "source": [],
   "metadata": {
    "collapsed": false
   },
   "id": "2aa336f990d75f3b"
  }
 ],
 "metadata": {
  "kernelspec": {
   "display_name": "Python 3",
   "language": "python",
   "name": "python3"
  },
  "language_info": {
   "codemirror_mode": {
    "name": "ipython",
    "version": 2
   },
   "file_extension": ".py",
   "mimetype": "text/x-python",
   "name": "python",
   "nbconvert_exporter": "python",
   "pygments_lexer": "ipython2",
   "version": "2.7.6"
  }
 },
 "nbformat": 4,
 "nbformat_minor": 5
}
