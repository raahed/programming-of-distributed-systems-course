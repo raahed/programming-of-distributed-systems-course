{
 "cells": [
  {
   "cell_type": "code",
   "execution_count": 3,
   "id": "initial_id",
   "metadata": {
    "collapsed": true,
    "ExecuteTime": {
     "end_time": "2023-11-07T10:51:58.551443200Z",
     "start_time": "2023-11-07T10:51:58.535823100Z"
    }
   },
   "outputs": [],
   "source": [
    "import pandas as pd"
   ]
  },
  {
   "cell_type": "code",
   "execution_count": 4,
   "outputs": [],
   "source": [
    "from pathlib import Path\n",
    "\n",
    "def read_data_files(folder: Path) -> pd.DataFrame:\n",
    "    tmp_pandas_list = []\n",
    "\n",
    "    for file in folder.glob('*.csv'):\n",
    "        dataset = pd.read_csv(file, delimiter=',')\n",
    "\n",
    "        tmp_pandas_list.append(dataset)\n",
    "\n",
    "    # Concat csv files\n",
    "    return pd.concat(tmp_pandas_list, axis=0, ignore_index=True)"
   ],
   "metadata": {
    "collapsed": false,
    "ExecuteTime": {
     "end_time": "2023-11-07T10:51:58.567309100Z",
     "start_time": "2023-11-07T10:51:58.535823100Z"
    }
   },
   "id": "5c2baace9b5f9285"
  },
  {
   "cell_type": "code",
   "execution_count": 7,
   "outputs": [],
   "source": [
    "data = read_data_files(Path('.'))"
   ],
   "metadata": {
    "collapsed": false,
    "ExecuteTime": {
     "end_time": "2023-11-07T10:53:33.477448300Z",
     "start_time": "2023-11-07T10:53:33.383265700Z"
    }
   },
   "id": "cea05264ccc7276"
  },
  {
   "cell_type": "code",
   "execution_count": 8,
   "outputs": [
    {
     "data": {
      "text/plain": "                           test_name   loop counter       send time  \\\n0     marvin-wsl-11_52_02_002293.csv              0  0:00:00.000049   \n1     marvin-wsl-11_52_02_002293.csv              1  0:00:00.000038   \n2     marvin-wsl-11_52_02_002293.csv              2  0:00:00.000032   \n3     marvin-wsl-11_52_02_002293.csv              3  0:00:00.000033   \n4     marvin-wsl-11_52_02_002293.csv              4  0:00:00.000022   \n...                              ...            ...             ...   \n3310  marvin-wsl-11_52_28_838766.csv            995  0:00:00.000009   \n3311  marvin-wsl-11_52_28_838766.csv            996  0:00:00.000012   \n3312  marvin-wsl-11_52_28_838766.csv            997  0:00:00.000010   \n3313  marvin-wsl-11_52_28_838766.csv            998  0:00:00.000014   \n3314  marvin-wsl-11_52_28_838766.csv            999  0:00:00.000006   \n\n         send answer   message   trace hops                      Source  \n0     0:00:00.002072        27            4  marvin-wsl-11_52_02_002293  \n1     0:00:00.001557        27            4  marvin-wsl-11_52_02_002293  \n2     0:00:00.001668        27            4  marvin-wsl-11_52_02_002293  \n3     0:00:00.001982        27            4  marvin-wsl-11_52_02_002293  \n4     0:00:00.001708        27            4  marvin-wsl-11_52_02_002293  \n...              ...       ...          ...                         ...  \n3310  0:00:00.001918       912            9  marvin-wsl-11_52_28_838766  \n3311  0:00:00.002436       912            9  marvin-wsl-11_52_28_838766  \n3312  0:00:00.002354       912            9  marvin-wsl-11_52_28_838766  \n3313  0:00:00.001962       912            9  marvin-wsl-11_52_28_838766  \n3314  0:00:00.001799       912            9  marvin-wsl-11_52_28_838766  \n\n[3315 rows x 7 columns]",
      "text/html": "<div>\n<style scoped>\n    .dataframe tbody tr th:only-of-type {\n        vertical-align: middle;\n    }\n\n    .dataframe tbody tr th {\n        vertical-align: top;\n    }\n\n    .dataframe thead th {\n        text-align: right;\n    }\n</style>\n<table border=\"1\" class=\"dataframe\">\n  <thead>\n    <tr style=\"text-align: right;\">\n      <th></th>\n      <th>test_name</th>\n      <th>loop counter</th>\n      <th>send time</th>\n      <th>send answer</th>\n      <th>message</th>\n      <th>trace hops</th>\n      <th>Source</th>\n    </tr>\n  </thead>\n  <tbody>\n    <tr>\n      <th>0</th>\n      <td>marvin-wsl-11_52_02_002293.csv</td>\n      <td>0</td>\n      <td>0:00:00.000049</td>\n      <td>0:00:00.002072</td>\n      <td>27</td>\n      <td>4</td>\n      <td>marvin-wsl-11_52_02_002293</td>\n    </tr>\n    <tr>\n      <th>1</th>\n      <td>marvin-wsl-11_52_02_002293.csv</td>\n      <td>1</td>\n      <td>0:00:00.000038</td>\n      <td>0:00:00.001557</td>\n      <td>27</td>\n      <td>4</td>\n      <td>marvin-wsl-11_52_02_002293</td>\n    </tr>\n    <tr>\n      <th>2</th>\n      <td>marvin-wsl-11_52_02_002293.csv</td>\n      <td>2</td>\n      <td>0:00:00.000032</td>\n      <td>0:00:00.001668</td>\n      <td>27</td>\n      <td>4</td>\n      <td>marvin-wsl-11_52_02_002293</td>\n    </tr>\n    <tr>\n      <th>3</th>\n      <td>marvin-wsl-11_52_02_002293.csv</td>\n      <td>3</td>\n      <td>0:00:00.000033</td>\n      <td>0:00:00.001982</td>\n      <td>27</td>\n      <td>4</td>\n      <td>marvin-wsl-11_52_02_002293</td>\n    </tr>\n    <tr>\n      <th>4</th>\n      <td>marvin-wsl-11_52_02_002293.csv</td>\n      <td>4</td>\n      <td>0:00:00.000022</td>\n      <td>0:00:00.001708</td>\n      <td>27</td>\n      <td>4</td>\n      <td>marvin-wsl-11_52_02_002293</td>\n    </tr>\n    <tr>\n      <th>...</th>\n      <td>...</td>\n      <td>...</td>\n      <td>...</td>\n      <td>...</td>\n      <td>...</td>\n      <td>...</td>\n      <td>...</td>\n    </tr>\n    <tr>\n      <th>3310</th>\n      <td>marvin-wsl-11_52_28_838766.csv</td>\n      <td>995</td>\n      <td>0:00:00.000009</td>\n      <td>0:00:00.001918</td>\n      <td>912</td>\n      <td>9</td>\n      <td>marvin-wsl-11_52_28_838766</td>\n    </tr>\n    <tr>\n      <th>3311</th>\n      <td>marvin-wsl-11_52_28_838766.csv</td>\n      <td>996</td>\n      <td>0:00:00.000012</td>\n      <td>0:00:00.002436</td>\n      <td>912</td>\n      <td>9</td>\n      <td>marvin-wsl-11_52_28_838766</td>\n    </tr>\n    <tr>\n      <th>3312</th>\n      <td>marvin-wsl-11_52_28_838766.csv</td>\n      <td>997</td>\n      <td>0:00:00.000010</td>\n      <td>0:00:00.002354</td>\n      <td>912</td>\n      <td>9</td>\n      <td>marvin-wsl-11_52_28_838766</td>\n    </tr>\n    <tr>\n      <th>3313</th>\n      <td>marvin-wsl-11_52_28_838766.csv</td>\n      <td>998</td>\n      <td>0:00:00.000014</td>\n      <td>0:00:00.001962</td>\n      <td>912</td>\n      <td>9</td>\n      <td>marvin-wsl-11_52_28_838766</td>\n    </tr>\n    <tr>\n      <th>3314</th>\n      <td>marvin-wsl-11_52_28_838766.csv</td>\n      <td>999</td>\n      <td>0:00:00.000006</td>\n      <td>0:00:00.001799</td>\n      <td>912</td>\n      <td>9</td>\n      <td>marvin-wsl-11_52_28_838766</td>\n    </tr>\n  </tbody>\n</table>\n<p>3315 rows × 7 columns</p>\n</div>"
     },
     "execution_count": 8,
     "metadata": {},
     "output_type": "execute_result"
    }
   ],
   "source": [
    "data"
   ],
   "metadata": {
    "collapsed": false,
    "ExecuteTime": {
     "end_time": "2023-11-07T10:53:38.363160200Z",
     "start_time": "2023-11-07T10:53:38.268197800Z"
    }
   },
   "id": "8540137ca0cb9a25"
  },
  {
   "cell_type": "code",
   "execution_count": null,
   "outputs": [],
   "source": [],
   "metadata": {
    "collapsed": false
   },
   "id": "606495a1d55c67cb"
  }
 ],
 "metadata": {
  "kernelspec": {
   "display_name": "Python 3",
   "language": "python",
   "name": "python3"
  },
  "language_info": {
   "codemirror_mode": {
    "name": "ipython",
    "version": 2
   },
   "file_extension": ".py",
   "mimetype": "text/x-python",
   "name": "python",
   "nbconvert_exporter": "python",
   "pygments_lexer": "ipython2",
   "version": "2.7.6"
  }
 },
 "nbformat": 4,
 "nbformat_minor": 5
}
