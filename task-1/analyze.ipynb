{
 "cells": [
  {
   "cell_type": "markdown",
   "id": "e640fdb899539263",
   "metadata": {
    "collapsed": false
   },
   "source": [
    "# Analyzer for task 1"
   ]
  },
  {
   "cell_type": "code",
   "execution_count": null,
   "id": "initial_id",
   "metadata": {
    "collapsed": false
   },
   "outputs": [],
   "source": [
    "import pandas as pd\n",
    "from pathlib import Path\n",
    "import matplotlib.pyplot as plt\n",
    "import statistics as stats\n",
    "import re\n",
    "import numpy as np"
   ]
  },
  {
   "cell_type": "code",
   "execution_count": null,
   "id": "5c2baace9b5f9285",
   "metadata": {
    "collapsed": false
   },
   "outputs": [],
   "source": [
    "def read_and_parse_data_files(folder: Path) -> pd.DataFrame:\n",
    "    tmp_pandas_list = []\n",
    "\n",
    "    for file in folder.glob('*.csv'):\n",
    "        dataset = pd.read_csv(file, delimiter=',')\n",
    "        \n",
    "        # Convert time columns to floats\n",
    "        dataset['send time'] = dataset['send time'].apply(lambda x: float(x.split(':')[-1]))\n",
    "        dataset['answer time'] = dataset['answer time'].apply(lambda x: float(x.split(':')[-1]))\n",
    "        \n",
    "        # Insert mean values\n",
    "        dataset['send time (mean)'] = dataset['send time'].mean()\n",
    "        dataset['answer time (mean)'] = dataset['answer time'].mean()\n",
    "\n",
    "        # Insert RTT\n",
    "        dataset['RTT'] = dataset['send time'] + dataset['answer time']\n",
    "        \n",
    "        tmp_pandas_list.append(dataset)\n",
    "        \n",
    "    return pd.concat(tmp_pandas_list, axis=0, ignore_index=True)"
   ]
  },
  {
   "cell_type": "code",
   "execution_count": null,
   "id": "cea05264ccc7276",
   "metadata": {
    "collapsed": false
   },
   "outputs": [],
   "source": [
    "data = read_and_parse_data_files(Path('.')) "
   ]
  },
  {
   "cell_type": "code",
   "execution_count": null,
   "id": "8540137ca0cb9a25",
   "metadata": {
    "collapsed": false
   },
   "outputs": [],
   "source": [
    "print(f'Total data collected: {data.shape}')\n",
    "print(f'Different test approaches: {len(data[\"test group\"].drop_duplicates())}')"
   ]
  },
  {
   "cell_type": "code",
   "execution_count": null,
   "id": "2aa336f990d75f3b",
   "metadata": {
    "collapsed": false
   },
   "outputs": [],
   "source": [
    "data"
   ]
  },
  {
   "cell_type": "markdown",
   "id": "b18df23e399e8e28",
   "metadata": {
    "collapsed": false
   },
   "source": [
    "## Details about traceroute"
   ]
  },
  {
   "cell_type": "code",
   "execution_count": null,
   "id": "559953cbe7afbd1",
   "metadata": {
    "collapsed": false
   },
   "outputs": [],
   "source": [
    "hops_group = data.groupby('test name')['trace hops'].max().reset_index().sort_values(['trace hops'])"
   ]
  },
  {
   "cell_type": "code",
   "execution_count": null,
   "id": "5ec7b0b70679886",
   "metadata": {
    "collapsed": false
   },
   "outputs": [],
   "source": [
    "fig, ax = plt.subplots()\n",
    "ax.barh(hops_group['test name'], hops_group['trace hops'])\n",
    "ax.set_xlabel('Overall hops (max 30)')     \n",
    "plt.show()"
   ]
  },
  {
   "cell_type": "markdown",
   "id": "3bcccdfe4f1d939f",
   "metadata": {
    "collapsed": false
   },
   "source": [
    "Example trace route with over 30 hops"
   ]
  },
  {
   "cell_type": "code",
   "execution_count": null,
   "id": "af475e6ef8630a03",
   "metadata": {
    "collapsed": false
   },
   "outputs": [],
   "source": [
    "with open('andreas-ubuntu-hotspot-20_23_45_888841.csv.trace', 'r') as file: print(file.read()) "
   ]
  },
  {
   "cell_type": "markdown",
   "id": "8d688f4b5d7293c4",
   "metadata": {
    "collapsed": false
   },
   "source": [
    "## Mean times over different test setups"
   ]
  },
  {
   "cell_type": "code",
   "execution_count": null,
   "id": "d1773050949330ae",
   "metadata": {
    "collapsed": false
   },
   "outputs": [],
   "source": [
    "avg_group = data.groupby('test name')['answer time (mean)'].max().reset_index().sort_values(['answer time (mean)'])"
   ]
  },
  {
   "cell_type": "code",
   "execution_count": null,
   "id": "531608059bdd37f",
   "metadata": {
    "collapsed": false
   },
   "outputs": [],
   "source": [
    "avg_group['answer time (mean)'] *= 1000\n",
    "\n",
    "avg_group_small = avg_group[avg_group['answer time (mean)'] <= 100]\n",
    "fig, ax, = plt.subplots()\n",
    "ax.barh(avg_group_small['test name'], avg_group_small['answer time (mean)'])\n",
    "ax.set_xlabel('Avg time without timeouts <= 100 ms ')\n",
    "plt.show()\n",
    "\n",
    "avg_group_big = avg_group[avg_group['answer time (mean)'] > 100]\n",
    "fig, bx = plt.subplots()\n",
    "bx.barh(avg_group_big['test name'], avg_group_big['answer time (mean)'])\n",
    "bx.set_xlabel('Avg time without timeouts > 100 ms ')\n",
    "plt.show()\n"
   ]
  },
  {
   "cell_type": "markdown",
   "id": "a847fa0ff87aef96",
   "metadata": {
    "collapsed": false
   },
   "source": [
    "## Statistics about timed out packages"
   ]
  },
  {
   "cell_type": "code",
   "execution_count": null,
   "id": "dd03cc61b62cf001",
   "metadata": {
    "collapsed": false
   },
   "outputs": [],
   "source": [
    "timed_out = data[data['message'] == 'timed out']\n",
    "tests_with_time_out = data[data['test name'].isin(timed_out['test name'].drop_duplicates().tolist())]\n",
    "\n",
    "print(f'Over {data.shape[0]} messages timed {timed_out.shape[0]} out!')"
   ]
  },
  {
   "cell_type": "code",
   "execution_count": null,
   "id": "28070d7596f821e8",
   "metadata": {
    "collapsed": false
   },
   "outputs": [],
   "source": [
    "listed_groups = tests_with_time_out['test name'].drop_duplicates().tolist()\n",
    "\n",
    "print(f'Timeouts in {len(listed_groups)} of {len(data[\"test name\"].drop_duplicates())} test runs!')"
   ]
  },
  {
   "cell_type": "code",
   "execution_count": null,
   "metadata": {},
   "outputs": [],
   "source": [
    "listed_groups"
   ],
   "id": "82da9528ac0c991c"
  }
 ],
 "metadata": {
  "kernelspec": {
   "display_name": "Python 3",
   "language": "python",
   "name": "python3"
  },
  "language_info": {
   "codemirror_mode": {
    "name": "ipython",
    "version": 3
   },
   "file_extension": ".py",
   "mimetype": "text/x-python",
   "name": "python",
   "nbconvert_exporter": "python",
   "pygments_lexer": "ipython3",
   "version": "3.9.13"
  }
 },
 "nbformat": 4,
 "nbformat_minor": 5
}
